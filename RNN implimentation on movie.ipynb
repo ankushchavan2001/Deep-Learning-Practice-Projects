{
 "cells": [
  {
   "cell_type": "code",
   "execution_count": 1,
   "id": "f6cfaed7-408e-47d3-bfac-ab673f63b0f7",
   "metadata": {},
   "outputs": [
    {
     "name": "stdout",
     "output_type": "stream",
     "text": [
      "WARNING:tensorflow:From C:\\Users\\ANKUSH\\AppData\\Local\\Programs\\Python\\Python311\\Lib\\site-packages\\keras\\src\\losses.py:2976: The name tf.losses.sparse_softmax_cross_entropy is deprecated. Please use tf.compat.v1.losses.sparse_softmax_cross_entropy instead.\n",
      "\n"
     ]
    }
   ],
   "source": [
    "import numpy as np\n",
    "import tensorflow as tf\n",
    "from tensorflow.keras.preprocessing import sequence\n",
    "from tensorflow.keras.layers import Embedding, SimpleRNN, Dense\n",
    "from tensorflow.keras.models import Sequential\n",
    "from tensorflow.keras.preprocessing.text import Tokenizer"
   ]
  },
  {
   "cell_type": "code",
   "execution_count": 2,
   "id": "77224f6c-518e-422c-a025-f2e50adae61f",
   "metadata": {},
   "outputs": [],
   "source": [
    "import warnings\n",
    "warnings.filterwarnings('ignore')"
   ]
  },
  {
   "cell_type": "code",
   "execution_count": 3,
   "id": "4078da35-4e76-4215-b513-ea538b8f0231",
   "metadata": {},
   "outputs": [],
   "source": [
    "data = [\n",
    "      (\"I absolutely loved this movie!\", \"positive\"),\n",
    "    (\"The acting was terrible and the plot was boring\", \"negative\"),\n",
    "    (\"This film was masterpeace.\", \"positive\"),\n",
    "    (\"I couldn't stand watching it, a complete waste of time\", \"negative\"),\n",
    "    (\"The cinematography was stunning, a must-watch!\", \"positive\")\n",
    "]"
   ]
  },
  {
   "cell_type": "code",
   "execution_count": 4,
   "id": "93f77174-c975-4520-ad67-454442a21ae9",
   "metadata": {},
   "outputs": [],
   "source": [
    "reviews, sentiments = zip(*data)"
   ]
  },
  {
   "cell_type": "code",
   "execution_count": 5,
   "id": "8b3cac06-2ec7-499d-a153-ca7033f2ce8a",
   "metadata": {},
   "outputs": [
    {
     "data": {
      "text/plain": [
       "('I absolutely loved this movie!',\n",
       " 'The acting was terrible and the plot was boring',\n",
       " 'This film was masterpeace.',\n",
       " \"I couldn't stand watching it, a complete waste of time\",\n",
       " 'The cinematography was stunning, a must-watch!')"
      ]
     },
     "execution_count": 5,
     "metadata": {},
     "output_type": "execute_result"
    }
   ],
   "source": [
    "reviews"
   ]
  },
  {
   "cell_type": "code",
   "execution_count": 6,
   "id": "fb400126-b1ea-44a9-829d-1333aaba00d9",
   "metadata": {},
   "outputs": [
    {
     "data": {
      "text/plain": [
       "('positive', 'negative', 'positive', 'negative', 'positive')"
      ]
     },
     "execution_count": 6,
     "metadata": {},
     "output_type": "execute_result"
    }
   ],
   "source": [
    "sentiments"
   ]
  },
  {
   "cell_type": "code",
   "execution_count": 7,
   "id": "1724e4aa-aeb2-413e-b449-522d0b70099b",
   "metadata": {},
   "outputs": [],
   "source": [
    "tokens = Tokenizer()\n",
    "tokens.fit_on_texts(reviews)"
   ]
  },
  {
   "cell_type": "code",
   "execution_count": 8,
   "id": "a7c36838-9530-4e3c-9a60-c98b0ea11857",
   "metadata": {},
   "outputs": [
    {
     "data": {
      "text/plain": [
       "{'was': 1,\n",
       " 'the': 2,\n",
       " 'i': 3,\n",
       " 'this': 4,\n",
       " 'a': 5,\n",
       " 'absolutely': 6,\n",
       " 'loved': 7,\n",
       " 'movie': 8,\n",
       " 'acting': 9,\n",
       " 'terrible': 10,\n",
       " 'and': 11,\n",
       " 'plot': 12,\n",
       " 'boring': 13,\n",
       " 'film': 14,\n",
       " 'masterpeace': 15,\n",
       " \"couldn't\": 16,\n",
       " 'stand': 17,\n",
       " 'watching': 18,\n",
       " 'it': 19,\n",
       " 'complete': 20,\n",
       " 'waste': 21,\n",
       " 'of': 22,\n",
       " 'time': 23,\n",
       " 'cinematography': 24,\n",
       " 'stunning': 25,\n",
       " 'must': 26,\n",
       " 'watch': 27}"
      ]
     },
     "execution_count": 8,
     "metadata": {},
     "output_type": "execute_result"
    }
   ],
   "source": [
    "tokens.word_index"
   ]
  },
  {
   "cell_type": "code",
   "execution_count": 9,
   "id": "4eee90ca-12cb-471f-91c8-9b4543862108",
   "metadata": {},
   "outputs": [
    {
     "data": {
      "text/plain": [
       "OrderedDict([('i', 2),\n",
       "             ('absolutely', 1),\n",
       "             ('loved', 1),\n",
       "             ('this', 2),\n",
       "             ('movie', 1),\n",
       "             ('the', 3),\n",
       "             ('acting', 1),\n",
       "             ('was', 4),\n",
       "             ('terrible', 1),\n",
       "             ('and', 1),\n",
       "             ('plot', 1),\n",
       "             ('boring', 1),\n",
       "             ('film', 1),\n",
       "             ('masterpeace', 1),\n",
       "             (\"couldn't\", 1),\n",
       "             ('stand', 1),\n",
       "             ('watching', 1),\n",
       "             ('it', 1),\n",
       "             ('a', 2),\n",
       "             ('complete', 1),\n",
       "             ('waste', 1),\n",
       "             ('of', 1),\n",
       "             ('time', 1),\n",
       "             ('cinematography', 1),\n",
       "             ('stunning', 1),\n",
       "             ('must', 1),\n",
       "             ('watch', 1)])"
      ]
     },
     "execution_count": 9,
     "metadata": {},
     "output_type": "execute_result"
    }
   ],
   "source": [
    "tokens.word_counts"
   ]
  },
  {
   "cell_type": "code",
   "execution_count": 8,
   "id": "d2714e7f-1c5a-4c9e-9aba-f5554de7f0f5",
   "metadata": {},
   "outputs": [
    {
     "data": {
      "text/plain": [
       "28"
      ]
     },
     "execution_count": 8,
     "metadata": {},
     "output_type": "execute_result"
    }
   ],
   "source": [
    "vocab_size = len(tokens.word_index)+1\n",
    "vocab_size"
   ]
  },
  {
   "cell_type": "code",
   "execution_count": 9,
   "id": "d8489fac-3c04-47e6-a749-049ae541b2dd",
   "metadata": {},
   "outputs": [
    {
     "data": {
      "text/plain": [
       "[[3, 6, 7, 4, 8],\n",
       " [2, 9, 1, 10, 11, 2, 12, 1, 13],\n",
       " [4, 14, 1, 15],\n",
       " [3, 16, 17, 18, 19, 5, 20, 21, 22, 23],\n",
       " [2, 24, 1, 25, 5, 26, 27]]"
      ]
     },
     "execution_count": 9,
     "metadata": {},
     "output_type": "execute_result"
    }
   ],
   "source": [
    "seq = tokens.texts_to_sequences(reviews)\n",
    "seq"
   ]
  },
  {
   "cell_type": "code",
   "execution_count": 10,
   "id": "5251c633-5eb3-4732-88ae-81ec05061af2",
   "metadata": {},
   "outputs": [
    {
     "data": {
      "text/plain": [
       "10"
      ]
     },
     "execution_count": 10,
     "metadata": {},
     "output_type": "execute_result"
    }
   ],
   "source": [
    "max_length = max([len(i) for i in seq])\n",
    "max_length"
   ]
  },
  {
   "cell_type": "code",
   "execution_count": 11,
   "id": "59b068d9-5b84-479f-aca5-c7e8d6de0137",
   "metadata": {},
   "outputs": [
    {
     "data": {
      "text/plain": [
       "array([[ 3,  6,  7,  4,  8,  0,  0,  0,  0,  0],\n",
       "       [ 2,  9,  1, 10, 11,  2, 12,  1, 13,  0],\n",
       "       [ 4, 14,  1, 15,  0,  0,  0,  0,  0,  0],\n",
       "       [ 3, 16, 17, 18, 19,  5, 20, 21, 22, 23],\n",
       "       [ 2, 24,  1, 25,  5, 26, 27,  0,  0,  0]])"
      ]
     },
     "execution_count": 11,
     "metadata": {},
     "output_type": "execute_result"
    }
   ],
   "source": [
    "pad_seq = sequence.pad_sequences(seq, maxlen=max_length, padding='post')\n",
    "\n",
    "pad_seq"
   ]
  },
  {
   "cell_type": "code",
   "execution_count": 12,
   "id": "cbfdb075-8ad8-4ee9-99bf-89bc8727afb4",
   "metadata": {},
   "outputs": [
    {
     "data": {
      "text/plain": [
       "array([1, 0, 1, 0, 1])"
      ]
     },
     "execution_count": 12,
     "metadata": {},
     "output_type": "execute_result"
    }
   ],
   "source": [
    "labels = np.array([1 if i=='positive' else 0 for i in sentiments])\n",
    "labels"
   ]
  },
  {
   "cell_type": "code",
   "execution_count": 13,
   "id": "8dfaedae-826f-4806-8170-88688a335904",
   "metadata": {},
   "outputs": [
    {
     "name": "stdout",
     "output_type": "stream",
     "text": [
      "WARNING:tensorflow:From C:\\Users\\ANKUSH\\AppData\\Local\\Programs\\Python\\Python311\\Lib\\site-packages\\keras\\src\\backend.py:873: The name tf.get_default_graph is deprecated. Please use tf.compat.v1.get_default_graph instead.\n",
      "\n"
     ]
    }
   ],
   "source": [
    "model = model = Sequential([\n",
    "    Embedding(vocab_size,20, input_length=max_length),\n",
    "    SimpleRNN(20),\n",
    "    Dense(1, activation='sigmoid')\n",
    "])"
   ]
  },
  {
   "cell_type": "code",
   "execution_count": 14,
   "id": "34d739d3-4edb-4fdd-8a74-ea072e7f8eb7",
   "metadata": {},
   "outputs": [
    {
     "name": "stdout",
     "output_type": "stream",
     "text": [
      "WARNING:tensorflow:From C:\\Users\\ANKUSH\\AppData\\Local\\Programs\\Python\\Python311\\Lib\\site-packages\\keras\\src\\optimizers\\__init__.py:309: The name tf.train.Optimizer is deprecated. Please use tf.compat.v1.train.Optimizer instead.\n",
      "\n"
     ]
    }
   ],
   "source": [
    "model.compile(optimizer='adam', loss='binary_crossentropy', metrics=['accuracy'])"
   ]
  },
  {
   "cell_type": "code",
   "execution_count": 15,
   "id": "31bfc584-d798-4fe1-a2b6-496f5dcd7df0",
   "metadata": {},
   "outputs": [
    {
     "name": "stdout",
     "output_type": "stream",
     "text": [
      "Epoch 1/15\n",
      "WARNING:tensorflow:From C:\\Users\\ANKUSH\\AppData\\Local\\Programs\\Python\\Python311\\Lib\\site-packages\\keras\\src\\utils\\tf_utils.py:492: The name tf.ragged.RaggedTensorValue is deprecated. Please use tf.compat.v1.ragged.RaggedTensorValue instead.\n",
      "\n",
      "WARNING:tensorflow:From C:\\Users\\ANKUSH\\AppData\\Local\\Programs\\Python\\Python311\\Lib\\site-packages\\keras\\src\\engine\\base_layer_utils.py:384: The name tf.executing_eagerly_outside_functions is deprecated. Please use tf.compat.v1.executing_eagerly_outside_functions instead.\n",
      "\n",
      "1/1 [==============================] - 7s 7s/step - loss: 0.6657 - accuracy: 0.6000\n",
      "Epoch 2/15\n",
      "1/1 [==============================] - 0s 17ms/step - loss: 0.6398 - accuracy: 0.8000\n",
      "Epoch 3/15\n",
      "1/1 [==============================] - 0s 19ms/step - loss: 0.6143 - accuracy: 1.0000\n",
      "Epoch 4/15\n",
      "1/1 [==============================] - 0s 19ms/step - loss: 0.5893 - accuracy: 1.0000\n",
      "Epoch 5/15\n",
      "1/1 [==============================] - 0s 20ms/step - loss: 0.5645 - accuracy: 1.0000\n",
      "Epoch 6/15\n",
      "1/1 [==============================] - 0s 23ms/step - loss: 0.5399 - accuracy: 1.0000\n",
      "Epoch 7/15\n",
      "1/1 [==============================] - 0s 20ms/step - loss: 0.5155 - accuracy: 1.0000\n",
      "Epoch 8/15\n",
      "1/1 [==============================] - 0s 20ms/step - loss: 0.4912 - accuracy: 1.0000\n",
      "Epoch 9/15\n",
      "1/1 [==============================] - 0s 22ms/step - loss: 0.4671 - accuracy: 1.0000\n",
      "Epoch 10/15\n",
      "1/1 [==============================] - 0s 19ms/step - loss: 0.4431 - accuracy: 1.0000\n",
      "Epoch 11/15\n",
      "1/1 [==============================] - 0s 24ms/step - loss: 0.4193 - accuracy: 1.0000\n",
      "Epoch 12/15\n",
      "1/1 [==============================] - 0s 19ms/step - loss: 0.3958 - accuracy: 1.0000\n",
      "Epoch 13/15\n",
      "1/1 [==============================] - 0s 21ms/step - loss: 0.3727 - accuracy: 1.0000\n",
      "Epoch 14/15\n",
      "1/1 [==============================] - 0s 24ms/step - loss: 0.3499 - accuracy: 1.0000\n",
      "Epoch 15/15\n",
      "1/1 [==============================] - 0s 19ms/step - loss: 0.3275 - accuracy: 1.0000\n"
     ]
    },
    {
     "data": {
      "text/plain": [
       "<keras.src.callbacks.History at 0x1a6677fab90>"
      ]
     },
     "execution_count": 15,
     "metadata": {},
     "output_type": "execute_result"
    }
   ],
   "source": [
    "model.fit(pad_seq, labels, epochs=15, verbose=1)"
   ]
  },
  {
   "cell_type": "code",
   "execution_count": 16,
   "id": "648d2fd6-af42-4a3e-963a-133768b103bd",
   "metadata": {},
   "outputs": [],
   "source": [
    "new_sent = 'I eas blown away by the incredible performance and gripping storyline'"
   ]
  },
  {
   "cell_type": "code",
   "execution_count": 17,
   "id": "2980d483-2489-4569-a090-010ddf6cf4fc",
   "metadata": {},
   "outputs": [],
   "source": [
    "new_seq = tokens.texts_to_sequences([new_sent])"
   ]
  },
  {
   "cell_type": "code",
   "execution_count": 18,
   "id": "5abe09d7-7ca3-48d3-a6b6-6da23b5e2a9f",
   "metadata": {},
   "outputs": [],
   "source": [
    "new_pad_seq = sequence.pad_sequences(new_seq, maxlen=max_length, padding='post')"
   ]
  },
  {
   "cell_type": "code",
   "execution_count": 19,
   "id": "91579869-bea5-4889-b32a-e206c1eb5bc9",
   "metadata": {},
   "outputs": [
    {
     "data": {
      "text/plain": [
       "array([[ 3,  2, 11,  0,  0,  0,  0,  0,  0,  0]])"
      ]
     },
     "execution_count": 19,
     "metadata": {},
     "output_type": "execute_result"
    }
   ],
   "source": [
    "new_pad_seq"
   ]
  },
  {
   "cell_type": "code",
   "execution_count": 20,
   "id": "3a3f3d92-d872-41d6-8325-7cdd29d7e7a3",
   "metadata": {},
   "outputs": [
    {
     "name": "stdout",
     "output_type": "stream",
     "text": [
      "1/1 [==============================] - 1s 810ms/step\n"
     ]
    }
   ],
   "source": [
    "pred = model.predict(new_pad_seq)"
   ]
  },
  {
   "cell_type": "code",
   "execution_count": 22,
   "id": "d1f2a35f-7c18-46e6-87d7-443c45b4b32b",
   "metadata": {},
   "outputs": [
    {
     "data": {
      "text/plain": [
       "'Positive'"
      ]
     },
     "execution_count": 22,
     "metadata": {},
     "output_type": "execute_result"
    }
   ],
   "source": [
    "sentiment = 'Positive' if pred >= 0.5 else 'Negative'\n",
    "sentiment"
   ]
  },
  {
   "cell_type": "code",
   "execution_count": null,
   "id": "4baa8392-762a-43be-b2a2-454d655dfbdc",
   "metadata": {},
   "outputs": [],
   "source": []
  }
 ],
 "metadata": {
  "kernelspec": {
   "display_name": "Python 3 (ipykernel)",
   "language": "python",
   "name": "python3"
  },
  "language_info": {
   "codemirror_mode": {
    "name": "ipython",
    "version": 3
   },
   "file_extension": ".py",
   "mimetype": "text/x-python",
   "name": "python",
   "nbconvert_exporter": "python",
   "pygments_lexer": "ipython3",
   "version": "3.11.4"
  }
 },
 "nbformat": 4,
 "nbformat_minor": 5
}
