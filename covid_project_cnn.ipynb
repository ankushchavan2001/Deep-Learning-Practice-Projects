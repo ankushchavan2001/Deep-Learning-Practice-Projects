{
 "cells": [
  {
   "cell_type": "code",
   "execution_count": 1,
   "id": "43135a18-c7f2-4761-b154-37e3e109f6db",
   "metadata": {},
   "outputs": [
    {
     "name": "stdout",
     "output_type": "stream",
     "text": [
      "WARNING:tensorflow:From C:\\Users\\ANKUSH\\AppData\\Local\\Programs\\Python\\Python311\\Lib\\site-packages\\keras\\src\\losses.py:2976: The name tf.losses.sparse_softmax_cross_entropy is deprecated. Please use tf.compat.v1.losses.sparse_softmax_cross_entropy instead.\n",
      "\n"
     ]
    }
   ],
   "source": [
    "import numpy as np\n",
    "import tensorflow as tf\n",
    "import matplotlib.pyplot as plt\n",
    "from tensorflow.keras.models import Sequential\n",
    "from tensorflow.keras.layers import Conv2D, MaxPool2D, Flatten, Dense, BatchNormalization, Dropout\n",
    "from tensorflow.keras.preprocessing.image import ImageDataGenerator\n",
    "import warnings\n",
    "warnings.filterwarnings('ignore')"
   ]
  },
  {
   "cell_type": "code",
   "execution_count": 2,
   "id": "46dafaa8-6ef1-4ff8-8a58-9135fc4de7cd",
   "metadata": {},
   "outputs": [],
   "source": [
    "train_dr =  'covid_train'\n",
    "test_dr = 'covid_test'"
   ]
  },
  {
   "cell_type": "code",
   "execution_count": 3,
   "id": "01d77f1f-2449-4892-85a6-122816ccce04",
   "metadata": {},
   "outputs": [],
   "source": [
    "train_generator = ImageDataGenerator(\n",
    "    rescale= 1.0/255,\n",
    "    rotation_range=20,\n",
    "    width_shift_range=0.2,\n",
    "    height_shift_range=0.2,\n",
    "    horizontal_flip=True,\n",
    "    shear_range=0.2,\n",
    "    zoom_range=0.2\n",
    ")"
   ]
  },
  {
   "cell_type": "code",
   "execution_count": 4,
   "id": "5d3101f0-5a11-48d6-a50b-a5ce606fdcc1",
   "metadata": {},
   "outputs": [],
   "source": [
    "test_generator = ImageDataGenerator(rescale=1.0/255)"
   ]
  },
  {
   "cell_type": "code",
   "execution_count": 5,
   "id": "501340c0-82a0-4680-a3fc-7c44a836fba3",
   "metadata": {},
   "outputs": [],
   "source": [
    "width ,height = 512,512\n",
    "batch_size = 32"
   ]
  },
  {
   "cell_type": "code",
   "execution_count": 6,
   "id": "c456061e-770f-4670-b8e4-fba95ded28eb",
   "metadata": {},
   "outputs": [
    {
     "name": "stdout",
     "output_type": "stream",
     "text": [
      "Found 251 images belonging to 3 classes.\n"
     ]
    }
   ],
   "source": [
    "x_train = train_generator.flow_from_directory(\n",
    "    train_dr,\n",
    "    target_size=(width, height),\n",
    "    batch_size=batch_size,\n",
    "    class_mode= 'categorical'\n",
    ")"
   ]
  },
  {
   "cell_type": "code",
   "execution_count": 7,
   "id": "4e57553b-3583-4186-b6d4-d2377ba7c630",
   "metadata": {},
   "outputs": [
    {
     "name": "stdout",
     "output_type": "stream",
     "text": [
      "Found 66 images belonging to 3 classes.\n"
     ]
    }
   ],
   "source": [
    "x_test = test_generator.flow_from_directory(\n",
    "    test_dr,\n",
    "    target_size=(width, height),\n",
    "    batch_size=batch_size,\n",
    "    class_mode= 'categorical'\n",
    ")"
   ]
  },
  {
   "cell_type": "code",
   "execution_count": 10,
   "id": "3346a601-9ca4-4340-83b0-018ed6013f11",
   "metadata": {},
   "outputs": [
    {
     "name": "stdout",
     "output_type": "stream",
     "text": [
      "WARNING:tensorflow:From C:\\Users\\ANKUSH\\AppData\\Local\\Programs\\Python\\Python311\\Lib\\site-packages\\keras\\src\\backend.py:873: The name tf.get_default_graph is deprecated. Please use tf.compat.v1.get_default_graph instead.\n",
      "\n",
      "WARNING:tensorflow:From C:\\Users\\ANKUSH\\AppData\\Local\\Programs\\Python\\Python311\\Lib\\site-packages\\keras\\src\\layers\\pooling\\max_pooling2d.py:161: The name tf.nn.max_pool is deprecated. Please use tf.nn.max_pool2d instead.\n",
      "\n"
     ]
    }
   ],
   "source": [
    "model = Sequential([\n",
    "    Conv2D(32, (3,3), activation='relu', input_shape=(width,height,3)),\n",
    "    MaxPool2D((2,2)),\n",
    "    Conv2D(64, (3,3), activation='relu'),\n",
    "    MaxPool2D((2,2)),\n",
    "    Conv2D(128, (3,3), activation='relu'),\n",
    "    MaxPool2D((2,2)),\n",
    "    Conv2D(128, (3,3), activation='relu'),\n",
    "    MaxPool2D((2,2)),\n",
    "    Flatten(),\n",
    "    Dense(256, activation='relu'),\n",
    "    Dense(128, activation='relu'),\n",
    "    Dense(3, activation='softmax')\n",
    "])"
   ]
  },
  {
   "cell_type": "code",
   "execution_count": 11,
   "id": "e435b003-998a-4e69-8316-9382b20092dc",
   "metadata": {},
   "outputs": [
    {
     "name": "stdout",
     "output_type": "stream",
     "text": [
      "WARNING:tensorflow:From C:\\Users\\ANKUSH\\AppData\\Local\\Programs\\Python\\Python311\\Lib\\site-packages\\keras\\src\\optimizers\\__init__.py:309: The name tf.train.Optimizer is deprecated. Please use tf.compat.v1.train.Optimizer instead.\n",
      "\n"
     ]
    }
   ],
   "source": [
    "model.compile(optimizer='adam', loss='categorical_crossentropy',metrics=['accuracy'])"
   ]
  },
  {
   "cell_type": "code",
   "execution_count": 12,
   "id": "82b68dde-6480-42fd-9254-18e7d129bf52",
   "metadata": {},
   "outputs": [
    {
     "name": "stdout",
     "output_type": "stream",
     "text": [
      "Epoch 1/25\n",
      "WARNING:tensorflow:From C:\\Users\\ANKUSH\\AppData\\Local\\Programs\\Python\\Python311\\Lib\\site-packages\\keras\\src\\utils\\tf_utils.py:492: The name tf.ragged.RaggedTensorValue is deprecated. Please use tf.compat.v1.ragged.RaggedTensorValue instead.\n",
      "\n",
      "WARNING:tensorflow:From C:\\Users\\ANKUSH\\AppData\\Local\\Programs\\Python\\Python311\\Lib\\site-packages\\keras\\src\\engine\\base_layer_utils.py:384: The name tf.executing_eagerly_outside_functions is deprecated. Please use tf.compat.v1.executing_eagerly_outside_functions instead.\n",
      "\n",
      "8/8 [==============================] - 52s 6s/step - loss: 1.2564 - accuracy: 0.3665 - val_loss: 1.0771 - val_accuracy: 0.4091\n",
      "Epoch 2/25\n",
      "8/8 [==============================] - 50s 6s/step - loss: 0.7707 - accuracy: 0.6454 - val_loss: 1.9200 - val_accuracy: 0.5606\n",
      "Epoch 3/25\n",
      "8/8 [==============================] - 48s 6s/step - loss: 0.7368 - accuracy: 0.7331 - val_loss: 1.0642 - val_accuracy: 0.6515\n",
      "Epoch 4/25\n",
      "8/8 [==============================] - 51s 7s/step - loss: 0.6776 - accuracy: 0.6932 - val_loss: 0.9777 - val_accuracy: 0.6364\n",
      "Epoch 5/25\n",
      "8/8 [==============================] - 42s 5s/step - loss: 0.6785 - accuracy: 0.7092 - val_loss: 1.2641 - val_accuracy: 0.5152\n",
      "Epoch 6/25\n",
      "8/8 [==============================] - 56s 6s/step - loss: 0.6552 - accuracy: 0.7729 - val_loss: 1.0352 - val_accuracy: 0.6212\n",
      "Epoch 7/25\n",
      "8/8 [==============================] - 44s 5s/step - loss: 0.5188 - accuracy: 0.7888 - val_loss: 0.9234 - val_accuracy: 0.6212\n",
      "Epoch 8/25\n",
      "8/8 [==============================] - 51s 7s/step - loss: 0.4701 - accuracy: 0.7968 - val_loss: 0.9570 - val_accuracy: 0.6364\n",
      "Epoch 9/25\n",
      "8/8 [==============================] - 42s 5s/step - loss: 0.4692 - accuracy: 0.8167 - val_loss: 1.0227 - val_accuracy: 0.6061\n",
      "Epoch 10/25\n",
      "8/8 [==============================] - 51s 6s/step - loss: 0.5932 - accuracy: 0.7689 - val_loss: 0.9559 - val_accuracy: 0.6364\n",
      "Epoch 11/25\n",
      "8/8 [==============================] - 42s 5s/step - loss: 0.4635 - accuracy: 0.7888 - val_loss: 0.7594 - val_accuracy: 0.6667\n",
      "Epoch 12/25\n",
      "8/8 [==============================] - 79s 10s/step - loss: 0.4981 - accuracy: 0.7649 - val_loss: 0.6833 - val_accuracy: 0.7121\n",
      "Epoch 13/25\n",
      "8/8 [==============================] - 47s 5s/step - loss: 0.4444 - accuracy: 0.8367 - val_loss: 0.6964 - val_accuracy: 0.7121\n",
      "Epoch 14/25\n",
      "8/8 [==============================] - 74s 8s/step - loss: 0.4130 - accuracy: 0.8367 - val_loss: 0.6502 - val_accuracy: 0.7424\n",
      "Epoch 15/25\n",
      "8/8 [==============================] - 57s 7s/step - loss: 0.4284 - accuracy: 0.8287 - val_loss: 0.8324 - val_accuracy: 0.6818\n",
      "Epoch 16/25\n",
      "8/8 [==============================] - 36s 4s/step - loss: 0.4692 - accuracy: 0.7968 - val_loss: 0.7550 - val_accuracy: 0.7121\n",
      "Epoch 17/25\n",
      "8/8 [==============================] - 76s 10s/step - loss: 0.4965 - accuracy: 0.8048 - val_loss: 0.7840 - val_accuracy: 0.6212\n",
      "Epoch 18/25\n",
      "8/8 [==============================] - 71s 8s/step - loss: 0.4357 - accuracy: 0.8327 - val_loss: 0.6842 - val_accuracy: 0.7273\n",
      "Epoch 19/25\n",
      "8/8 [==============================] - 86s 11s/step - loss: 0.4447 - accuracy: 0.8327 - val_loss: 0.6627 - val_accuracy: 0.7273\n",
      "Epoch 20/25\n",
      "8/8 [==============================] - 68s 8s/step - loss: 0.3793 - accuracy: 0.8367 - val_loss: 0.5995 - val_accuracy: 0.7576\n",
      "Epoch 21/25\n",
      "8/8 [==============================] - 84s 10s/step - loss: 0.3745 - accuracy: 0.8127 - val_loss: 0.6606 - val_accuracy: 0.7727\n",
      "Epoch 22/25\n",
      "8/8 [==============================] - 89s 11s/step - loss: 0.3328 - accuracy: 0.8765 - val_loss: 0.6082 - val_accuracy: 0.8030\n",
      "Epoch 23/25\n",
      "8/8 [==============================] - 75s 9s/step - loss: 0.3601 - accuracy: 0.8367 - val_loss: 1.0044 - val_accuracy: 0.6515\n",
      "Epoch 24/25\n",
      "8/8 [==============================] - 89s 11s/step - loss: 0.4382 - accuracy: 0.8486 - val_loss: 0.5899 - val_accuracy: 0.7576\n",
      "Epoch 25/25\n",
      "8/8 [==============================] - 75s 9s/step - loss: 0.3499 - accuracy: 0.8486 - val_loss: 0.6148 - val_accuracy: 0.7424\n"
     ]
    }
   ],
   "source": [
    "history = model.fit(x_train, epochs=25, batch_size=batch_size,validation_data=x_test)"
   ]
  },
  {
   "cell_type": "code",
   "execution_count": 13,
   "id": "36688176-c44f-47ef-a7dc-f9bcc2708de9",
   "metadata": {},
   "outputs": [
    {
     "data": {
      "text/plain": [
       "<matplotlib.legend.Legend at 0x15352ca5690>"
      ]
     },
     "execution_count": 13,
     "metadata": {},
     "output_type": "execute_result"
    },
    {
     "data": {
      "image/png": "[encoded data removed]",
      "text/plain": [
       "<Figure size 640x480 with 1 Axes>"
      ]
     },
     "metadata": {},
     "output_type": "display_data"
    }
   ],
   "source": [
    "plt.plot(history.history['accuracy'], label = 'Training Accuracy')\n",
    "plt.plot(history.history['val_accuracy'], label = 'Testing Accuracy')\n",
    "plt.xlabel('epochs')\n",
    "plt.ylabel('accuracy')\n",
    "plt.title('Accuracy')\n",
    "plt.legend()"
   ]
  },
  {
   "cell_type": "code",
   "execution_count": 14,
   "id": "637ad3fd-6b16-4deb-af29-28251cc05bc0",
   "metadata": {},
   "outputs": [
    {
     "data": {
      "text/plain": [
       "<matplotlib.legend.Legend at 0x153547094d0>"
      ]
     },
     "execution_count": 14,
     "metadata": {},
     "output_type": "execute_result"
    },
    {
     "data": {
      "image/png": "[encoded data removed]",
      "text/plain": [
       "<Figure size 640x480 with 1 Axes>"
      ]
     },
     "metadata": {},
     "output_type": "display_data"
    }
   ],
   "source": [
    "plt.plot(history.history['loss'], label = 'Training loss')\n",
    "plt.plot(history.history['val_loss'], label = 'Testing loss')\n",
    "plt.xlabel('epochs')\n",
    "plt.ylabel('loss')\n",
    "plt.title('Loss')\n",
    "plt.legend()"
   ]
  },
  {
   "cell_type": "code",
   "execution_count": 15,
   "id": "b2e82e68-7e0b-4612-8d1e-43b3ea5e5453",
   "metadata": {},
   "outputs": [
    {
     "name": "stdout",
     "output_type": "stream",
     "text": [
      "Class Names {0: 'Covid', 1: 'Normal', 2: 'Viral Pneumonia'}\n"
     ]
    }
   ],
   "source": [
    "class_names = x_test.class_indices\n",
    "classes = {value:key for key, value in class_names.items()}\n",
    "print('Class Names',classes)"
   ]
  },
  {
   "cell_type": "code",
   "execution_count": 16,
   "id": "36679440-4160-41e6-9def-f0ceb09e3c37",
   "metadata": {},
   "outputs": [],
   "source": [
    "from tensorflow.keras.preprocessing import image\n"
   ]
  },
  {
   "cell_type": "code",
   "execution_count": 17,
   "id": "3b9c1d80-8f43-4992-85a2-9f97223c83e3",
   "metadata": {},
   "outputs": [],
   "source": [
    "img = image.load_img('0102.jpeg', target_size=(width,height))"
   ]
  },
  {
   "cell_type": "code",
   "execution_count": 18,
   "id": "942b22c2-d36b-440d-af86-6e507f997c3e",
   "metadata": {},
   "outputs": [],
   "source": [
    "img_arr = image.img_to_array(img)"
   ]
  },
  {
   "cell_type": "code",
   "execution_count": 19,
   "id": "387d350f-28e7-4498-b3fa-9b0bacdaec8b",
   "metadata": {},
   "outputs": [],
   "source": [
    "img_arr = np.expand_dims(img_arr,axis=0)"
   ]
  },
  {
   "cell_type": "code",
   "execution_count": 20,
   "id": "c14a60a3-e477-466e-ad0a-f62296a9fb66",
   "metadata": {},
   "outputs": [],
   "source": [
    "img_arr = img_arr / 255."
   ]
  },
  {
   "cell_type": "code",
   "execution_count": 21,
   "id": "93a34d5a-9d09-4b07-ba1c-cb2e59b5c551",
   "metadata": {},
   "outputs": [
    {
     "name": "stdout",
     "output_type": "stream",
     "text": [
      "1/1 [==============================] - 1s 848ms/step\n"
     ]
    }
   ],
   "source": [
    "pred = model.predict(img_arr)"
   ]
  },
  {
   "cell_type": "code",
   "execution_count": 22,
   "id": "20a381a8-e3b3-48c8-84eb-3f5baa761981",
   "metadata": {},
   "outputs": [
    {
     "data": {
      "text/plain": [
       "1"
      ]
     },
     "execution_count": 22,
     "metadata": {},
     "output_type": "execute_result"
    }
   ],
   "source": [
    "np.argmax(pred)"
   ]
  },
  {
   "cell_type": "code",
   "execution_count": 24,
   "id": "8ac93b47-8425-4924-89a3-14b6f6c905d8",
   "metadata": {},
   "outputs": [
    {
     "name": "stdout",
     "output_type": "stream",
     "text": [
      "The given image is of class : Normal\n"
     ]
    }
   ],
   "source": [
    "print('The given image is of class :', classes[np.argmax(pred)])"
   ]
  },
  {
   "cell_type": "markdown",
   "id": "7c5c64e4-4b90-4ca3-b1d9-6d2fd21ec673",
   "metadata": {},
   "source": [
    "Relularization"
   ]
  },
  {
   "cell_type": "code",
   "execution_count": 8,
   "id": "5ec5039b-605e-4f68-b03f-ceac076e5861",
   "metadata": {},
   "outputs": [
    {
     "name": "stdout",
     "output_type": "stream",
     "text": [
      "WARNING:tensorflow:From C:\\Users\\ANKUSH\\AppData\\Local\\Programs\\Python\\Python311\\Lib\\site-packages\\keras\\src\\backend.py:873: The name tf.get_default_graph is deprecated. Please use tf.compat.v1.get_default_graph instead.\n",
      "\n",
      "WARNING:tensorflow:From C:\\Users\\ANKUSH\\AppData\\Local\\Programs\\Python\\Python311\\Lib\\site-packages\\keras\\src\\layers\\normalization\\batch_normalization.py:979: The name tf.nn.fused_batch_norm is deprecated. Please use tf.compat.v1.nn.fused_batch_norm instead.\n",
      "\n"
     ]
    }
   ],
   "source": [
    "model2 = Sequential()\n",
    "\n",
    "model2.add(Conv2D(32, (3,3), activation='relu', input_shape=(width,height,3)))\n",
    "model2.add(BatchNormalization())\n",
    "model2.add(MaxPool2D(2,2))\n",
    "\n",
    "model2.add(Conv2D(64, (3,3), activation='relu'))\n",
    "model2.add(BatchNormalization())\n",
    "model2.add(MaxPool2D(2,2))\n",
    "\n",
    "model2.add(Conv2D(128, (3,3), activation='relu', input_shape=(width,height,3)))\n",
    "model2.add(BatchNormalization())\n",
    "model2.add(MaxPool2D(2,2))\n",
    "\n",
    "model2.add(Flatten())\n",
    "\n",
    "model2.add(Dense(256, activation='relu'))\n",
    "model2.add(Dropout(0.2))\n",
    "model2.add(Dense(128, activation='relu'))\n",
    "model2.add(Dropout(0.2))\n",
    "model2.add(Dense(3, activation='softmax'))\n"
   ]
  },
  {
   "cell_type": "code",
   "execution_count": 9,
   "id": "13e40d0b-0232-4d5d-b87c-58463a51ea8d",
   "metadata": {},
   "outputs": [
    {
     "name": "stdout",
     "output_type": "stream",
     "text": [
      "Model: \"sequential\"\n",
      "_________________________________________________________________\n",
      " Layer (type)                Output Shape              Param #   \n",
      "=================================================================\n",
      " conv2d (Conv2D)             (None, 510, 510, 32)      896       \n",
      "                                                                 \n",
      " batch_normalization (Batch  (None, 510, 510, 32)      128       \n",
      " Normalization)                                                  \n",
      "                                                                 \n",
      " max_pooling2d (MaxPooling2  (None, 255, 255, 32)      0         \n",
      " D)                                                              \n",
      "                                                                 \n",
      " conv2d_1 (Conv2D)           (None, 253, 253, 64)      18496     \n",
      "                                                                 \n",
      " batch_normalization_1 (Bat  (None, 253, 253, 64)      256       \n",
      " chNormalization)                                                \n",
      "                                                                 \n",
      " max_pooling2d_1 (MaxPoolin  (None, 126, 126, 64)      0         \n",
      " g2D)                                                            \n",
      "                                                                 \n",
      " conv2d_2 (Conv2D)           (None, 124, 124, 128)     73856     \n",
      "                                                                 \n",
      " batch_normalization_2 (Bat  (None, 124, 124, 128)     512       \n",
      " chNormalization)                                                \n",
      "                                                                 \n",
      " max_pooling2d_2 (MaxPoolin  (None, 62, 62, 128)       0         \n",
      " g2D)                                                            \n",
      "                                                                 \n",
      " flatten (Flatten)           (None, 492032)            0         \n",
      "                                                                 \n",
      " dense (Dense)               (None, 256)               125960448 \n",
      "                                                                 \n",
      " dropout (Dropout)           (None, 256)               0         \n",
      "                                                                 \n",
      " dense_1 (Dense)             (None, 128)               32896     \n",
      "                                                                 \n",
      " dropout_1 (Dropout)         (None, 128)               0         \n",
      "                                                                 \n",
      " dense_2 (Dense)             (None, 3)                 387       \n",
      "                                                                 \n",
      "=================================================================\n",
      "Total params: 126087875 (480.99 MB)\n",
      "Trainable params: 126087427 (480.99 MB)\n",
      "Non-trainable params: 448 (1.75 KB)\n",
      "_________________________________________________________________\n"
     ]
    }
   ],
   "source": [
    "model2.summary()"
   ]
  },
  {
   "cell_type": "code",
   "execution_count": 10,
   "id": "f3f47733-2fec-4333-8216-368771e98c0a",
   "metadata": {},
   "outputs": [
    {
     "name": "stdout",
     "output_type": "stream",
     "text": [
      "WARNING:tensorflow:From C:\\Users\\ANKUSH\\AppData\\Local\\Programs\\Python\\Python311\\Lib\\site-packages\\keras\\src\\optimizers\\__init__.py:309: The name tf.train.Optimizer is deprecated. Please use tf.compat.v1.train.Optimizer instead.\n",
      "\n"
     ]
    }
   ],
   "source": [
    "model2.compile(optimizer='adam', loss='categorical_crossentropy',metrics=['accuracy'])"
   ]
  },
  {
   "cell_type": "code",
   "execution_count": null,
   "id": "bbbad3f7-9282-4131-8685-419f38229257",
   "metadata": {},
   "outputs": [
    {
     "name": "stdout",
     "output_type": "stream",
     "text": [
      "Epoch 1/25\n",
      "WARNING:tensorflow:From C:\\Users\\ANKUSH\\AppData\\Local\\Programs\\Python\\Python311\\Lib\\site-packages\\keras\\src\\utils\\tf_utils.py:492: The name tf.ragged.RaggedTensorValue is deprecated. Please use tf.compat.v1.ragged.RaggedTensorValue instead.\n",
      "\n",
      "WARNING:tensorflow:From C:\\Users\\ANKUSH\\AppData\\Local\\Programs\\Python\\Python311\\Lib\\site-packages\\keras\\src\\engine\\base_layer_utils.py:384: The name tf.executing_eagerly_outside_functions is deprecated. Please use tf.compat.v1.executing_eagerly_outside_functions instead.\n",
      "\n",
      "8/8 [==============================] - 394s 49s/step - loss: 29.3920 - accuracy: 0.6096 - val_loss: 6.8423 - val_accuracy: 0.3030\n",
      "Epoch 2/25\n",
      "3/8 [==========>...................] - ETA: 4:45 - loss: 20.4135 - accuracy: 0.6771"
     ]
    }
   ],
   "source": [
    "history2 = model2.fit(x_train, epochs=25, batch_size=batch_size,validation_data=x_test)"
   ]
  },
  {
   "cell_type": "code",
   "execution_count": null,
   "id": "1a8d1804-edbf-44b5-b225-78d7d9cf6984",
   "metadata": {},
   "outputs": [],
   "source": []
  }
 ],
 "metadata": {
  "kernelspec": {
   "display_name": "Python 3 (ipykernel)",
   "language": "python",
   "name": "python3"
  },
  "language_info": {
   "codemirror_mode": {
    "name": "ipython",
    "version": 3
   },
   "file_extension": ".py",
   "mimetype": "text/x-python",
   "name": "python",
   "nbconvert_exporter": "python",
   "pygments_lexer": "ipython3",
   "version": "3.11.4"
  }
 },
 "nbformat": 4,
 "nbformat_minor": 5
}
